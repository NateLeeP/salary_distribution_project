{
 "cells": [
  {
   "cell_type": "code",
   "execution_count": 1,
   "metadata": {},
   "outputs": [],
   "source": [
    "import matplotlib.pyplot as plt\n",
    "import pandas as pd\n",
    "import numpy as np\n",
    "import re"
   ]
  },
  {
   "cell_type": "code",
   "execution_count": 2,
   "metadata": {},
   "outputs": [],
   "source": [
    "### What I eventually want to clean. Can do so working through it and functions, but want to try with regular expresssions\n",
    "### RE is used to search strings. What are we searching for? First name, last name\n",
    "### Want to remove first instance of lastname, remove contract years, keep only first and last name\n",
    "player_name = 'WestbrookRussell Westbrook (2018-2022)'"
   ]
  },
  {
   "cell_type": "code",
   "execution_count": 3,
   "metadata": {},
   "outputs": [],
   "source": [
    "text_to_search = '''\n",
    "abcdefghijklmnopqrstuvwxyz\n",
    "ABCDEFGHIJKLMNOPQRSTUVWXYZ\n",
    "1234567890\n",
    "\n",
    "Ha HaHa\n",
    "\n",
    "MetaCharacters (Need to be escaped):\n",
    ". ^ $ * + ? {} [] \\ | ()\n",
    "\n",
    "coreyms.com\n",
    "\n",
    "321-555-4321\n",
    "123.555.1234\n",
    "\n",
    "Mr. Schafer\n",
    "Mr Smith\n",
    "Ms Davis\n",
    "Mrs. Robinson\n",
    "Mr. T\n",
    "\n",
    "\n",
    "'''"
   ]
  },
  {
   "cell_type": "code",
   "execution_count": 4,
   "metadata": {},
   "outputs": [],
   "source": [
    "sentence = 'Start a sentence and then bring it to an end'"
   ]
  },
  {
   "cell_type": "code",
   "execution_count": 5,
   "metadata": {},
   "outputs": [],
   "source": [
    "### Re.compile method: used to create a pattern object. Reuse variable for multiple searches\n",
    "pattern = re.compile(r'abc')\n",
    "### Pattern is now a pattern object that can be passed strings to find matches. Pattern is an re that is attempting to match\n",
    "### 'abc' in the string passed to it"
   ]
  },
  {
   "cell_type": "code",
   "execution_count": 8,
   "metadata": {},
   "outputs": [
    {
     "data": {
      "text/plain": [
       "<re.Match object; span=(1, 4), match='abc'>"
      ]
     },
     "execution_count": 8,
     "metadata": {},
     "output_type": "execute_result"
    }
   ],
   "source": [
    "pattern.search(text_to_search) ### Returns match object\n",
    "pattern.finditer(text_to_search) ### Returns list of match objects"
   ]
  },
  {
   "cell_type": "code",
   "execution_count": 10,
   "metadata": {},
   "outputs": [
    {
     "name": "stdout",
     "output_type": "stream",
     "text": [
      "Help on built-in function search:\n",
      "\n",
      "search(string, pos=0, endpos=9223372036854775807) method of re.Pattern instance\n",
      "    Scan through string looking for a match, and return a corresponding match object instance.\n",
      "    \n",
      "    Return None if no position in the string matches.\n",
      "\n"
     ]
    }
   ],
   "source": [
    "### Meta-characters: Need to be escaped, as they are 'special' characters inside a re pattern \n",
    "### Regular expressions are meant to find PATTERNS, not a specific occurence like one emial, but rather multiple emails (as they\n",
    "### will all have a similar format)"
   ]
  },
  {
   "cell_type": "code",
   "execution_count": 33,
   "metadata": {},
   "outputs": [
    {
     "name": "stdout",
     "output_type": "stream",
     "text": [
      "<re.Match object; span=(0, 9), match='Westbrook'>\n",
      "<re.Match object; span=(9, 16), match='Russell'>\n",
      "<re.Match object; span=(17, 26), match='Westbrook'>\n"
     ]
    }
   ],
   "source": [
    "p = re.compile('[A-z][a-z]+')\n",
    "m = p.finditer(player_name)\n",
    "for match in m:\n",
    "    print(match)"
   ]
  },
  {
   "cell_type": "code",
   "execution_count": 34,
   "metadata": {},
   "outputs": [
    {
     "name": "stdout",
     "output_type": "stream",
     "text": [
      "Russell Westbrook\n"
     ]
    }
   ],
   "source": [
    "m = p.findall(player_name) ### Returns a list\n",
    "print(m[1] + ' ' + m[2])\n",
    "### Look at this cell and one above for difference between findall and finditer. Iter returns an iterrator of match objects\n",
    "### find all returns no match objects, returns list in a substring\n"
   ]
  },
  {
   "cell_type": "code",
   "execution_count": 35,
   "metadata": {},
   "outputs": [
    {
     "data": {
      "text/plain": [
       "'Russell Westbrook'"
      ]
     },
     "execution_count": 35,
     "metadata": {},
     "output_type": "execute_result"
    }
   ],
   "source": [
    "p.findall(player_name)[1] + ' ' + p.findall(player_name)[2]"
   ]
  },
  {
   "cell_type": "code",
   "execution_count": 36,
   "metadata": {},
   "outputs": [],
   "source": [
    "player_pattern = re.compile('[A-z][a-z]+') ## Matches each instance of a first or last name!! \n",
    "### Have pattern. Now need to find out how to replace matched patterns"
   ]
  },
  {
   "cell_type": "code",
   "execution_count": 68,
   "metadata": {},
   "outputs": [],
   "source": [
    "def clean_names(player_name):\n",
    "    player_name_cleaned = player_pattern.findall(player_name)[1] + ' ' + player_pattern.findall(player_name)[0]\n",
    "    return player_name_cleaned"
   ]
  },
  {
   "cell_type": "code",
   "execution_count": 69,
   "metadata": {},
   "outputs": [
    {
     "data": {
      "text/plain": [
       "0      Russell Westbrook\n",
       "1          Stephen Curry\n",
       "2         Damian Lillard\n",
       "3          Klay Thompson\n",
       "4          Tobias Harris\n",
       "             ...        \n",
       "472       Chasson Randle\n",
       "473           Jeremy Lin\n",
       "474         Nik Stauskas\n",
       "475         Andrew Bogut\n",
       "476          Jodie Meeks\n",
       "Name: Player, Length: 477, dtype: object"
      ]
     },
     "execution_count": 69,
     "metadata": {},
     "output_type": "execute_result"
    }
   ],
   "source": [
    "nba_df = pd.read_csv(r'C:\\Users\\Nate P\\Desktop\\Data Exploration Project - Salary Distribution\\nba_salary_data_unclean.csv')\n",
    "nba_df['Player'].apply(clean_names)"
   ]
  },
  {
   "cell_type": "code",
   "execution_count": 73,
   "metadata": {},
   "outputs": [
    {
     "data": {
      "text/plain": [
       "'CHI'"
      ]
     },
     "execution_count": 73,
     "metadata": {},
     "output_type": "execute_result"
    }
   ],
   "source": [
    "team_pattern = re.compile('[A-Z]{3}')\n",
    "team_pattern.match('CHISigned w/MIN').group()"
   ]
  },
  {
   "cell_type": "code",
   "execution_count": 75,
   "metadata": {},
   "outputs": [
    {
     "data": {
      "text/plain": [
       "TOR    20\n",
       "SAS    18\n",
       "UTH    18\n",
       "MEM    17\n",
       "DAL    17\n",
       "CLE    17\n",
       "DET    17\n",
       "GSW    17\n",
       "BKN    17\n",
       "HOU    17\n",
       "BOS    16\n",
       "PHX    16\n",
       "PHI    16\n",
       "MIN    16\n",
       "IND    16\n",
       "SAC    16\n",
       "WAS    16\n",
       "POR    16\n",
       "LAL    15\n",
       "NOP    15\n",
       "LAC    15\n",
       "CHA    15\n",
       "NYK    15\n",
       "DEN    15\n",
       "MIL    15\n",
       "CHI    15\n",
       "OKC    14\n",
       "ORL    14\n",
       "ATL    14\n",
       "MIA    12\n",
       "Name: Team, dtype: int64"
      ]
     },
     "execution_count": 75,
     "metadata": {},
     "output_type": "execute_result"
    }
   ],
   "source": [
    "nba_df['Team'].apply(lambda x: team_pattern.match(x).group()).value_counts()"
   ]
  },
  {
   "cell_type": "code",
   "execution_count": null,
   "metadata": {},
   "outputs": [],
   "source": []
  }
 ],
 "metadata": {
  "kernelspec": {
   "display_name": "Python 3",
   "language": "python",
   "name": "python3"
  },
  "language_info": {
   "codemirror_mode": {
    "name": "ipython",
    "version": 3
   },
   "file_extension": ".py",
   "mimetype": "text/x-python",
   "name": "python",
   "nbconvert_exporter": "python",
   "pygments_lexer": "ipython3",
   "version": "3.7.4"
  }
 },
 "nbformat": 4,
 "nbformat_minor": 2
}
